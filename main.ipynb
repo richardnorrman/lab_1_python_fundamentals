{
 "cells": [
  {
   "cell_type": "code",
   "execution_count": 15,
   "metadata": {},
   "outputs": [
    {
     "name": "stdout",
     "output_type": "stream",
     "text": [
      ">seq1\n",
      "cGTAaccaataaaaaaacaagcttaacctaattc\n",
      ">seq2\n",
      "agcttagTTTGGatctggccgggg\n",
      ">seq3\n",
      "gcggatttactcCCCCCAAAAANNaggggagagcccagataaatggagtctgtgcgtccaca\n",
      ">seq4\n",
      "gcggatttactcaggggagagcccagGGataaatggagtctgtgcgtccaca\n"
     ]
    }
   ],
   "source": [
    "import re\n",
    "\n",
    "text_path = \"dna_raw.txt\"\n",
    "\n",
    "with open (text_path, \"r\") as file:\n",
    "    raw_text = file.read()\n",
    "\n",
    "print(raw_text)"
   ]
  }
 ],
 "metadata": {
  "kernelspec": {
   "display_name": ".venv",
   "language": "python",
   "name": "python3"
  },
  "language_info": {
   "codemirror_mode": {
    "name": "ipython",
    "version": 3
   },
   "file_extension": ".py",
   "mimetype": "text/x-python",
   "name": "python",
   "nbconvert_exporter": "python",
   "pygments_lexer": "ipython3",
   "version": "3.13.2"
  }
 },
 "nbformat": 4,
 "nbformat_minor": 2
}
